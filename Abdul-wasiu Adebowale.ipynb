{
 "cells": [
  {
   "cell_type": "code",
   "execution_count": 2,
   "id": "a6976329-1116-4b36-bb0c-600a36e631f6",
   "metadata": {},
   "outputs": [],
   "source": [
    "import numpy as np\n",
    "import pandas as pn"
   ]
  },
  {
   "cell_type": "code",
   "execution_count": 3,
   "id": "2099abb3-ba04-4a3c-9003-6c4ced421961",
   "metadata": {},
   "outputs": [],
   "source": [
    " im_data= pn.read_csv('FoodBalanceSheets_E_Africa_NOFLAG.csv', encoding = \"latin-1\")"
   ]
  },
  {
   "cell_type": "code",
   "execution_count": 6,
   "id": "a4022401-5c64-4ce4-8401-00c29238936f",
   "metadata": {},
   "outputs": [
    {
     "data": {
      "text/html": [
       "<div>\n",
       "<style scoped>\n",
       "    .dataframe tbody tr th:only-of-type {\n",
       "        vertical-align: middle;\n",
       "    }\n",
       "\n",
       "    .dataframe tbody tr th {\n",
       "        vertical-align: top;\n",
       "    }\n",
       "\n",
       "    .dataframe thead th {\n",
       "        text-align: right;\n",
       "    }\n",
       "</style>\n",
       "<table border=\"1\" class=\"dataframe\">\n",
       "  <thead>\n",
       "    <tr style=\"text-align: right;\">\n",
       "      <th></th>\n",
       "      <th>Area Code</th>\n",
       "      <th>Area</th>\n",
       "      <th>Item Code</th>\n",
       "      <th>Item</th>\n",
       "      <th>Element Code</th>\n",
       "      <th>Element</th>\n",
       "      <th>Unit</th>\n",
       "      <th>Y2014</th>\n",
       "      <th>Y2015</th>\n",
       "      <th>Y2016</th>\n",
       "      <th>Y2017</th>\n",
       "      <th>Y2018</th>\n",
       "    </tr>\n",
       "  </thead>\n",
       "  <tbody>\n",
       "    <tr>\n",
       "      <th>0</th>\n",
       "      <td>4</td>\n",
       "      <td>Algeria</td>\n",
       "      <td>2501</td>\n",
       "      <td>Population</td>\n",
       "      <td>511</td>\n",
       "      <td>Total Population - Both sexes</td>\n",
       "      <td>1000 persons</td>\n",
       "      <td>38924.00</td>\n",
       "      <td>39728.00</td>\n",
       "      <td>40551.00</td>\n",
       "      <td>41389.00</td>\n",
       "      <td>42228.00</td>\n",
       "    </tr>\n",
       "    <tr>\n",
       "      <th>1</th>\n",
       "      <td>4</td>\n",
       "      <td>Algeria</td>\n",
       "      <td>2501</td>\n",
       "      <td>Population</td>\n",
       "      <td>5301</td>\n",
       "      <td>Domestic supply quantity</td>\n",
       "      <td>1000 tonnes</td>\n",
       "      <td>0.00</td>\n",
       "      <td>0.00</td>\n",
       "      <td>0.00</td>\n",
       "      <td>0.00</td>\n",
       "      <td>0.00</td>\n",
       "    </tr>\n",
       "    <tr>\n",
       "      <th>2</th>\n",
       "      <td>4</td>\n",
       "      <td>Algeria</td>\n",
       "      <td>2901</td>\n",
       "      <td>Grand Total</td>\n",
       "      <td>664</td>\n",
       "      <td>Food supply (kcal/capita/day)</td>\n",
       "      <td>kcal/capita/day</td>\n",
       "      <td>3377.00</td>\n",
       "      <td>3379.00</td>\n",
       "      <td>3372.00</td>\n",
       "      <td>3341.00</td>\n",
       "      <td>3322.00</td>\n",
       "    </tr>\n",
       "    <tr>\n",
       "      <th>3</th>\n",
       "      <td>4</td>\n",
       "      <td>Algeria</td>\n",
       "      <td>2901</td>\n",
       "      <td>Grand Total</td>\n",
       "      <td>674</td>\n",
       "      <td>Protein supply quantity (g/capita/day)</td>\n",
       "      <td>g/capita/day</td>\n",
       "      <td>94.90</td>\n",
       "      <td>94.35</td>\n",
       "      <td>94.72</td>\n",
       "      <td>92.82</td>\n",
       "      <td>91.83</td>\n",
       "    </tr>\n",
       "    <tr>\n",
       "      <th>4</th>\n",
       "      <td>4</td>\n",
       "      <td>Algeria</td>\n",
       "      <td>2901</td>\n",
       "      <td>Grand Total</td>\n",
       "      <td>684</td>\n",
       "      <td>Fat supply quantity (g/capita/day)</td>\n",
       "      <td>g/capita/day</td>\n",
       "      <td>80.06</td>\n",
       "      <td>79.36</td>\n",
       "      <td>77.40</td>\n",
       "      <td>80.19</td>\n",
       "      <td>77.28</td>\n",
       "    </tr>\n",
       "    <tr>\n",
       "      <th>5</th>\n",
       "      <td>4</td>\n",
       "      <td>Algeria</td>\n",
       "      <td>2903</td>\n",
       "      <td>Vegetal Products</td>\n",
       "      <td>664</td>\n",
       "      <td>Food supply (kcal/capita/day)</td>\n",
       "      <td>kcal/capita/day</td>\n",
       "      <td>2932.00</td>\n",
       "      <td>2958.00</td>\n",
       "      <td>2941.00</td>\n",
       "      <td>2921.00</td>\n",
       "      <td>2932.00</td>\n",
       "    </tr>\n",
       "    <tr>\n",
       "      <th>6</th>\n",
       "      <td>4</td>\n",
       "      <td>Algeria</td>\n",
       "      <td>2903</td>\n",
       "      <td>Vegetal Products</td>\n",
       "      <td>674</td>\n",
       "      <td>Protein supply quantity (g/capita/day)</td>\n",
       "      <td>g/capita/day</td>\n",
       "      <td>67.14</td>\n",
       "      <td>67.38</td>\n",
       "      <td>67.37</td>\n",
       "      <td>66.11</td>\n",
       "      <td>67.10</td>\n",
       "    </tr>\n",
       "    <tr>\n",
       "      <th>7</th>\n",
       "      <td>4</td>\n",
       "      <td>Algeria</td>\n",
       "      <td>2903</td>\n",
       "      <td>Vegetal Products</td>\n",
       "      <td>684</td>\n",
       "      <td>Fat supply quantity (g/capita/day)</td>\n",
       "      <td>g/capita/day</td>\n",
       "      <td>53.84</td>\n",
       "      <td>54.72</td>\n",
       "      <td>52.04</td>\n",
       "      <td>55.59</td>\n",
       "      <td>54.57</td>\n",
       "    </tr>\n",
       "    <tr>\n",
       "      <th>8</th>\n",
       "      <td>4</td>\n",
       "      <td>Algeria</td>\n",
       "      <td>2941</td>\n",
       "      <td>Animal Products</td>\n",
       "      <td>664</td>\n",
       "      <td>Food supply (kcal/capita/day)</td>\n",
       "      <td>kcal/capita/day</td>\n",
       "      <td>444.00</td>\n",
       "      <td>421.00</td>\n",
       "      <td>431.00</td>\n",
       "      <td>421.00</td>\n",
       "      <td>390.00</td>\n",
       "    </tr>\n",
       "    <tr>\n",
       "      <th>9</th>\n",
       "      <td>4</td>\n",
       "      <td>Algeria</td>\n",
       "      <td>2941</td>\n",
       "      <td>Animal Products</td>\n",
       "      <td>674</td>\n",
       "      <td>Protein supply quantity (g/capita/day)</td>\n",
       "      <td>g/capita/day</td>\n",
       "      <td>27.76</td>\n",
       "      <td>26.97</td>\n",
       "      <td>27.35</td>\n",
       "      <td>26.71</td>\n",
       "      <td>24.73</td>\n",
       "    </tr>\n",
       "  </tbody>\n",
       "</table>\n",
       "</div>"
      ],
      "text/plain": [
       "   Area Code     Area  Item Code              Item  Element Code  \\\n",
       "0          4  Algeria       2501        Population           511   \n",
       "1          4  Algeria       2501        Population          5301   \n",
       "2          4  Algeria       2901       Grand Total           664   \n",
       "3          4  Algeria       2901       Grand Total           674   \n",
       "4          4  Algeria       2901       Grand Total           684   \n",
       "5          4  Algeria       2903  Vegetal Products           664   \n",
       "6          4  Algeria       2903  Vegetal Products           674   \n",
       "7          4  Algeria       2903  Vegetal Products           684   \n",
       "8          4  Algeria       2941   Animal Products           664   \n",
       "9          4  Algeria       2941   Animal Products           674   \n",
       "\n",
       "                                  Element             Unit     Y2014  \\\n",
       "0           Total Population - Both sexes     1000 persons  38924.00   \n",
       "1                Domestic supply quantity      1000 tonnes      0.00   \n",
       "2           Food supply (kcal/capita/day)  kcal/capita/day   3377.00   \n",
       "3  Protein supply quantity (g/capita/day)     g/capita/day     94.90   \n",
       "4      Fat supply quantity (g/capita/day)     g/capita/day     80.06   \n",
       "5           Food supply (kcal/capita/day)  kcal/capita/day   2932.00   \n",
       "6  Protein supply quantity (g/capita/day)     g/capita/day     67.14   \n",
       "7      Fat supply quantity (g/capita/day)     g/capita/day     53.84   \n",
       "8           Food supply (kcal/capita/day)  kcal/capita/day    444.00   \n",
       "9  Protein supply quantity (g/capita/day)     g/capita/day     27.76   \n",
       "\n",
       "      Y2015     Y2016     Y2017     Y2018  \n",
       "0  39728.00  40551.00  41389.00  42228.00  \n",
       "1      0.00      0.00      0.00      0.00  \n",
       "2   3379.00   3372.00   3341.00   3322.00  \n",
       "3     94.35     94.72     92.82     91.83  \n",
       "4     79.36     77.40     80.19     77.28  \n",
       "5   2958.00   2941.00   2921.00   2932.00  \n",
       "6     67.38     67.37     66.11     67.10  \n",
       "7     54.72     52.04     55.59     54.57  \n",
       "8    421.00    431.00    421.00    390.00  \n",
       "9     26.97     27.35     26.71     24.73  "
      ]
     },
     "execution_count": 6,
     "metadata": {},
     "output_type": "execute_result"
    }
   ],
   "source": [
    "im_data.head(10)"
   ]
  },
  {
   "cell_type": "code",
   "execution_count": 7,
   "id": "567c1404-49b7-4235-82c5-11c88222fdea",
   "metadata": {},
   "outputs": [
    {
     "name": "stdout",
     "output_type": "stream",
     "text": [
      "<class 'pandas.core.frame.DataFrame'>\n",
      "RangeIndex: 60943 entries, 0 to 60942\n",
      "Data columns (total 12 columns):\n",
      " #   Column        Non-Null Count  Dtype  \n",
      "---  ------        --------------  -----  \n",
      " 0   Area Code     60943 non-null  int64  \n",
      " 1   Area          60943 non-null  object \n",
      " 2   Item Code     60943 non-null  int64  \n",
      " 3   Item          60943 non-null  object \n",
      " 4   Element Code  60943 non-null  int64  \n",
      " 5   Element       60943 non-null  object \n",
      " 6   Unit          60943 non-null  object \n",
      " 7   Y2014         59354 non-null  float64\n",
      " 8   Y2015         59395 non-null  float64\n",
      " 9   Y2016         59408 non-null  float64\n",
      " 10  Y2017         59437 non-null  float64\n",
      " 11  Y2018         59507 non-null  float64\n",
      "dtypes: float64(5), int64(3), object(4)\n",
      "memory usage: 5.6+ MB\n"
     ]
    }
   ],
   "source": [
    "im_data.info()"
   ]
  },
  {
   "cell_type": "code",
   "execution_count": 17,
   "id": "341a1896-fff9-4e45-939a-b1227bc88814",
   "metadata": {},
   "outputs": [
    {
     "data": {
      "text/plain": [
       "(60943, 12)"
      ]
     },
     "execution_count": 17,
     "metadata": {},
     "output_type": "execute_result"
    }
   ],
   "source": [
    "im_data.shape"
   ]
  },
  {
   "cell_type": "code",
   "execution_count": 8,
   "id": "f26b2ba6-29e8-4aab-8a3f-1e8f4e80995b",
   "metadata": {},
   "outputs": [],
   "source": [
    "##Question number 1"
   ]
  },
  {
   "cell_type": "code",
   "execution_count": 30,
   "id": "8e82dfc0-baf4-46bd-85a8-06ad0f054128",
   "metadata": {},
   "outputs": [],
   "source": [
    "grouped_data = im_data.groupby('Area')['Y2017'].sum()"
   ]
  },
  {
   "cell_type": "code",
   "execution_count": 61,
   "id": "9d5c52fc-e625-4c49-8478-5360df174f99",
   "metadata": {},
   "outputs": [
    {
     "data": {
      "text/plain": [
       "Element\n",
       "Domestic supply quantity                  2088198.10\n",
       "Production                                2030056.89\n",
       "Food                                      1258888.28\n",
       "Total Population - Both sexes             1112641.00\n",
       "Food supply (kcal/capita/day)              454681.00\n",
       "Import Quantity                            294559.09\n",
       "Processing                                 292836.00\n",
       "Feed                                       223705.68\n",
       "Export Quantity                            182338.80\n",
       "Losses                                     160614.00\n",
       "Other uses (non-food)                       91645.97\n",
       "Stock Variation                             54316.91\n",
       "Food supply quantity (kg/capita/yr)         48690.04\n",
       "Residuals                                   35500.00\n",
       "Seed                                        24870.14\n",
       "Protein supply quantity (g/capita/day)      11842.45\n",
       "Fat supply quantity (g/capita/day)          10253.84\n",
       "Tourist consumption                            91.00\n",
       "Name: Y2017, dtype: float64"
      ]
     },
     "execution_count": 61,
     "metadata": {},
     "output_type": "execute_result"
    }
   ],
   "source": [
    "grouped_data.sort_values(ascending=False)"
   ]
  },
  {
   "cell_type": "code",
   "execution_count": 62,
   "id": "5396505b-21ec-4898-987c-2cc462809fc9",
   "metadata": {},
   "outputs": [],
   "source": [
    "## Question 4"
   ]
  },
  {
   "cell_type": "code",
   "execution_count": 63,
   "id": "0a29d526-c450-4b8a-8248-97fb95fa0336",
   "metadata": {},
   "outputs": [],
   "source": [
    "missing_values_2014 = im_data['Y2014'].isnull().sum()\n",
    "total_row = len(im_data)\n",
    "per_miss = (missing_values_2014/total_row)*100"
   ]
  },
  {
   "cell_type": "code",
   "execution_count": 64,
   "id": "ad917c82-51a1-4dcf-a07e-2e26d77aa46b",
   "metadata": {},
   "outputs": [
    {
     "data": {
      "text/plain": [
       "(1589, 2.6073544131401474)"
      ]
     },
     "execution_count": 64,
     "metadata": {},
     "output_type": "execute_result"
    }
   ],
   "source": [
    "missing_values_2014, per_miss"
   ]
  },
  {
   "cell_type": "code",
   "execution_count": 65,
   "id": "2da13966-d499-42dc-970c-9c345cdabec9",
   "metadata": {},
   "outputs": [],
   "source": [
    "        ## Question 5"
   ]
  },
  {
   "cell_type": "code",
   "execution_count": 66,
   "id": "c9d4addb-a9d0-43fa-864f-b9f2a17c45ae",
   "metadata": {},
   "outputs": [],
   "source": [
    "##no idea"
   ]
  },
  {
   "cell_type": "code",
   "execution_count": 67,
   "id": "ee87b34d-a96e-435d-ac11-61536b07e75e",
   "metadata": {},
   "outputs": [],
   "source": [
    "    ## Question 6"
   ]
  },
  {
   "cell_type": "code",
   "execution_count": 68,
   "id": "03f1fe2c-2526-4411-9c40-86305111679f",
   "metadata": {},
   "outputs": [],
   "source": [
    "grouped_data_element = im_data.groupby('Element')['Y2017'].sum()"
   ]
  },
  {
   "cell_type": "code",
   "execution_count": 69,
   "id": "01d6011a-1f7a-4331-97fb-0c3eb9ed6411",
   "metadata": {},
   "outputs": [],
   "source": [
    "processing_2017 = grouped_data_element.get('Processing',0)"
   ]
  },
  {
   "cell_type": "code",
   "execution_count": 70,
   "id": "8eded932-cfa9-45f8-945d-5461529c7fcf",
   "metadata": {},
   "outputs": [
    {
     "data": {
      "text/plain": [
       "292836.0"
      ]
     },
     "execution_count": 70,
     "metadata": {},
     "output_type": "execute_result"
    }
   ],
   "source": [
    "processing_2017"
   ]
  },
  {
   "cell_type": "code",
   "execution_count": 71,
   "id": "9282efb8-e69c-4c1c-97e0-40771f99d23d",
   "metadata": {},
   "outputs": [],
   "source": [
    "## Question 7"
   ]
  },
  {
   "cell_type": "code",
   "execution_count": 72,
   "id": "d63db136-cbb3-4962-8d1a-3a3f902994d1",
   "metadata": {},
   "outputs": [
    {
     "ename": "TypeError",
     "evalue": "'tuple' object does not support item assignment",
     "output_type": "error",
     "traceback": [
      "\u001b[1;31m---------------------------------------------------------------------------\u001b[0m",
      "\u001b[1;31mTypeError\u001b[0m                                 Traceback (most recent call last)",
      "Cell \u001b[1;32mIn[72], line 2\u001b[0m\n\u001b[0;32m      1\u001b[0m my_tuppy \u001b[38;5;241m=\u001b[39m (\u001b[38;5;241m1\u001b[39m,\u001b[38;5;241m2\u001b[39m,\u001b[38;5;241m5\u001b[39m,\u001b[38;5;241m8\u001b[39m)\n\u001b[1;32m----> 2\u001b[0m my_tuppy[\u001b[38;5;241m2\u001b[39m] \u001b[38;5;241m=\u001b[39m\u001b[38;5;241m6\u001b[39m\n",
      "\u001b[1;31mTypeError\u001b[0m: 'tuple' object does not support item assignment"
     ]
    }
   ],
   "source": [
    "my_tuppy = (1,2,5,8)\n",
    "my_tuppy[2] =6"
   ]
  },
  {
   "cell_type": "code",
   "execution_count": 76,
   "id": "e0cdc43e-7be9-4b36-a1ea-73b5bd5dad3f",
   "metadata": {},
   "outputs": [],
   "source": [
    "## Question 8"
   ]
  },
  {
   "cell_type": "code",
   "execution_count": 77,
   "id": "809173e7-4131-4749-902a-db97c2fc7ecb",
   "metadata": {},
   "outputs": [],
   "source": [
    "mean_17 = im_data['Y2017'].mean()\n",
    "SD_17 = im_data['Y2017'].std()"
   ]
  },
  {
   "cell_type": "code",
   "execution_count": 78,
   "id": "8a6d22d8-947a-4a2e-95ab-52b0c93a83d1",
   "metadata": {},
   "outputs": [
    {
     "data": {
      "text/plain": [
       "(140.9177648602722, 1671.8623590572788)"
      ]
     },
     "execution_count": 78,
     "metadata": {},
     "output_type": "execute_result"
    }
   ],
   "source": [
    "mean_17, SD_17"
   ]
  },
  {
   "cell_type": "code",
   "execution_count": 79,
   "id": "62f464d6-5cb9-4c17-b8f5-9ab9010cb742",
   "metadata": {},
   "outputs": [],
   "source": [
    "## Question 9"
   ]
  },
  {
   "cell_type": "code",
   "execution_count": 87,
   "id": "5374185e-b1cd-4a7e-a10b-a1de101a7a4a",
   "metadata": {},
   "outputs": [],
   "source": [
    "gp_data=im_data.groupby('Element')[['Y2014','Y2015','Y2016','Y2017']].sum()"
   ]
  },
  {
   "cell_type": "code",
   "execution_count": 88,
   "id": "4e58bce2-9a78-4823-bdb4-16e224300db8",
   "metadata": {},
   "outputs": [
    {
     "data": {
      "text/plain": [
       "Element\n",
       "Domestic supply quantity                  Y2017\n",
       "Export Quantity                           Y2017\n",
       "Fat supply quantity (g/capita/day)        Y2017\n",
       "Feed                                      Y2016\n",
       "Food                                      Y2017\n",
       "Food supply (kcal/capita/day)             Y2017\n",
       "Food supply quantity (kg/capita/yr)       Y2014\n",
       "Import Quantity                           Y2017\n",
       "Losses                                    Y2017\n",
       "Other uses (non-food)                     Y2017\n",
       "Processing                                Y2017\n",
       "Production                                Y2017\n",
       "Protein supply quantity (g/capita/day)    Y2017\n",
       "Residuals                                 Y2016\n",
       "Seed                                      Y2017\n",
       "Stock Variation                           Y2014\n",
       "Total Population - Both sexes             Y2017\n",
       "Tourist consumption                       Y2014\n",
       "dtype: object"
      ]
     },
     "execution_count": 88,
     "metadata": {},
     "output_type": "execute_result"
    }
   ],
   "source": [
    "gp_data.idxmax(axis=1)"
   ]
  },
  {
   "cell_type": "code",
   "execution_count": null,
   "id": "326ddbd2-a882-4fdc-9a30-2264fbaa4a51",
   "metadata": {},
   "outputs": [],
   "source": []
  },
  {
   "cell_type": "code",
   "execution_count": null,
   "id": "9ea6ef36-c1bd-439a-99b9-be30a67d9233",
   "metadata": {},
   "outputs": [],
   "source": []
  },
  {
   "cell_type": "code",
   "execution_count": 89,
   "id": "fb639d29-a817-4a02-9e4a-b5508b8407b5",
   "metadata": {},
   "outputs": [],
   "source": [
    "s = [['him','sell'],[90,28,43]]"
   ]
  },
  {
   "cell_type": "code",
   "execution_count": 92,
   "id": "0a5af7e1-4c37-4eef-8c1e-aec07838644c",
   "metadata": {},
   "outputs": [
    {
     "data": {
      "text/plain": [
       "'e'"
      ]
     },
     "execution_count": 92,
     "metadata": {},
     "output_type": "execute_result"
    }
   ],
   "source": [
    "s[0][1][1]"
   ]
  },
  {
   "cell_type": "code",
   "execution_count": 94,
   "id": "bf4a6ac2-d5d6-4829-9f39-d21b3b286f77",
   "metadata": {},
   "outputs": [],
   "source": [
    "## Question 12"
   ]
  },
  {
   "cell_type": "code",
   "execution_count": 95,
   "id": "8292a310-0709-4c95-bb95-2f953ae9bca8",
   "metadata": {},
   "outputs": [
    {
     "data": {
      "text/plain": [
       "49"
      ]
     },
     "execution_count": 95,
     "metadata": {},
     "output_type": "execute_result"
    }
   ],
   "source": [
    "im_data['Area'].nunique()"
   ]
  },
  {
   "cell_type": "code",
   "execution_count": null,
   "id": "047097b8-cf69-4aa5-b13f-4f12115cd23d",
   "metadata": {},
   "outputs": [],
   "source": []
  }
 ],
 "metadata": {
  "kernelspec": {
   "display_name": "Python 3 (ipykernel)",
   "language": "python",
   "name": "python3"
  },
  "language_info": {
   "codemirror_mode": {
    "name": "ipython",
    "version": 3
   },
   "file_extension": ".py",
   "mimetype": "text/x-python",
   "name": "python",
   "nbconvert_exporter": "python",
   "pygments_lexer": "ipython3",
   "version": "3.11.7"
  }
 },
 "nbformat": 4,
 "nbformat_minor": 5
}
