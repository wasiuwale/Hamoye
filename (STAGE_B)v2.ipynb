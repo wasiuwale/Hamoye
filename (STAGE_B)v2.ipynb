{
  "nbformat": 4,
  "nbformat_minor": 0,
  "metadata": {
    "colab": {
      "provenance": []
    },
    "kernelspec": {
      "name": "python3",
      "display_name": "Python 3"
    },
    "language_info": {
      "name": "python"
    }
  },
  "cells": [
    {
      "cell_type": "code",
      "execution_count": 1,
      "metadata": {
        "id": "q4oqLbpLJl8t"
      },
      "outputs": [],
      "source": [
        "import numpy as np\n",
        "import pandas as pd\n",
        "df= pd.read_csv('energydata_complete.csv')"
      ]
    },
    {
      "cell_type": "code",
      "source": [
        "from sklearn.model_selection import train_test_split\n",
        "from sklearn.linear_model import LinearRegression\n",
        "from sklearn.metrics import mean_squared_error\n",
        "import numpy as np\n",
        "\n",
        "\n",
        "X = df[['T2']]\n",
        "y = df['T6']\n",
        "\n",
        "X_train, X_test, y_train, y_test = train_test_split(X, y, test_size=0.2, random_state=42)\n",
        "\n",
        "\n",
        "model = LinearRegression()\n",
        "model.fit(X_train, y_train)\n",
        "\n",
        "\n",
        "y_pred = model.predict(X_test)\n",
        "\n",
        "\n",
        "rmse = np.sqrt(mean_squared_error(y_test, y_pred))\n",
        "\n",
        "\n",
        "print(\"RMSE:\", round(rmse, 3))\n"
      ],
      "metadata": {
        "colab": {
          "base_uri": "https://localhost:8080/"
        },
        "id": "ScmDcYzvRDkv",
        "outputId": "4c2750da-bd71-46f6-d3ea-df2c7e587efc"
      },
      "execution_count": 2,
      "outputs": [
        {
          "output_type": "stream",
          "name": "stdout",
          "text": [
            "RMSE: 3.633\n"
          ]
        }
      ]
    },
    {
      "cell_type": "code",
      "source": [
        "from sklearn.model_selection import train_test_split\n",
        "from sklearn.linear_model import LinearRegression\n",
        "from sklearn.metrics import mean_absolute_error\n",
        "from sklearn.preprocessing import MinMaxScaler\n",
        "\n",
        "df_cleaned = df.drop(columns=[\"date\", \"lights\"])\n",
        "\n",
        "X = df_cleaned.drop(columns=[\"Appliances\"])\n",
        "y = df_cleaned[\"Appliances\"]\n",
        "\n",
        "\n",
        "X_train, X_test, y_train, y_test = train_test_split(X, y, test_size=0.3, random_state=42)\n",
        "\n",
        "\n",
        "scaler = MinMaxScaler()\n",
        "X_train_normalized = scaler.fit_transform(X_train)\n",
        "X_test_normalized = scaler.transform(X_test)\n",
        "\n",
        "\n",
        "model = LinearRegression()\n",
        "model.fit(X_train_normalized, y_train)\n",
        "\n",
        "\n",
        "y_train_pred = model.predict(X_train_normalized)\n",
        "\n",
        "\n",
        "mae_train = mean_absolute_error(y_train, y_train_pred)\n",
        "\n",
        "\n",
        "print(\"Mean Absolute Error (Training Set):\", round(mae_train, 3))\n"
      ],
      "metadata": {
        "colab": {
          "base_uri": "https://localhost:8080/"
        },
        "id": "eGo54RE_RENV",
        "outputId": "437d08cd-55ea-4c6b-828c-2e84b4cb3a10"
      },
      "execution_count": 3,
      "outputs": [
        {
          "output_type": "stream",
          "name": "stdout",
          "text": [
            "Mean Absolute Error (Training Set): 53.742\n"
          ]
        }
      ]
    },
    {
      "cell_type": "code",
      "source": [
        "from sklearn.metrics import mean_squared_error\n",
        "\n",
        "\n",
        "y_train_pred = model.predict(X_train_normalized)\n",
        "\n",
        "\n",
        "mse_train = mean_squared_error(y_train, y_train_pred)\n",
        "\n",
        "# Calculate Root Mean Squared Error (RMSE) for the training set\n",
        "rmse_train = np.sqrt(mse_train)\n",
        "\n",
        "\n",
        "print(\"Root Mean Squared Error (Training Set):\", round(rmse_train, 3))\n",
        "\n"
      ],
      "metadata": {
        "colab": {
          "base_uri": "https://localhost:8080/"
        },
        "id": "jhoXrs9vSCFT",
        "outputId": "202719ad-cbe8-4df7-c994-b1ffd005cd69"
      },
      "execution_count": 4,
      "outputs": [
        {
          "output_type": "stream",
          "name": "stdout",
          "text": [
            "Root Mean Squared Error (Training Set): 95.216\n"
          ]
        }
      ]
    },
    {
      "cell_type": "code",
      "source": [
        "\n",
        "y_test_pred = model.predict(X_test_normalized)\n",
        "\n",
        "\n",
        "mae_test = mean_absolute_error(y_test, y_test_pred)\n",
        "\n",
        "\n",
        "print(\"Mean Absolute Error (Test Set):\", round(mae_test, 3))\n"
      ],
      "metadata": {
        "colab": {
          "base_uri": "https://localhost:8080/"
        },
        "id": "Kp64fIC0STTK",
        "outputId": "9b2fdd4e-9c7d-4552-994b-26be9b514d7c"
      },
      "execution_count": 5,
      "outputs": [
        {
          "output_type": "stream",
          "name": "stdout",
          "text": [
            "Mean Absolute Error (Test Set): 53.643\n"
          ]
        }
      ]
    },
    {
      "cell_type": "code",
      "source": [
        "#predictions on the test set\n",
        "y_test_pred = model.predict(X_test_normalized)\n",
        "\n",
        "\n",
        "mse_test = mean_squared_error(y_test, y_test_pred)\n",
        "\n",
        "\n",
        "rmse_test = np.sqrt(mse_test)\n",
        "\n",
        "\n",
        "print(\"Root Mean Squared Error (Test Set):\", round(rmse_test, 3))\n",
        "\n"
      ],
      "metadata": {
        "colab": {
          "base_uri": "https://localhost:8080/"
        },
        "id": "iZmIE59AST_P",
        "outputId": "df96d44b-405c-4fd2-df62-746dd13c3dd9"
      },
      "execution_count": 6,
      "outputs": [
        {
          "output_type": "stream",
          "name": "stdout",
          "text": [
            "Root Mean Squared Error (Test Set): 93.64\n"
          ]
        }
      ]
    },
    {
      "cell_type": "code",
      "source": [
        "from sklearn.linear_model import Ridge\n",
        "\n",
        "\n",
        "ridge_model = Ridge()\n",
        "ridge_model.fit(X_train_normalized, y_train)\n",
        "\n",
        "\n",
        "y_test_pred_ridge = ridge_model.predict(X_test_normalized)\n",
        "\n",
        "\n",
        "mse_test_ridge = mean_squared_error(y_test, y_test_pred_ridge)\n",
        "\n",
        "\n",
        "rmse_test_ridge = np.sqrt(mse_test_ridge)\n",
        "\n",
        "\n",
        "print(\"Root Mean Squared Error (Test Set - Ridge):\", round(rmse_test_ridge, 3))\n",
        "\n"
      ],
      "metadata": {
        "colab": {
          "base_uri": "https://localhost:8080/"
        },
        "id": "HKK2x511TPcU",
        "outputId": "e5c7d47f-a9ef-4308-f828-98ee783594f3"
      },
      "execution_count": 7,
      "outputs": [
        {
          "output_type": "stream",
          "name": "stdout",
          "text": [
            "Root Mean Squared Error (Test Set - Ridge): 93.709\n"
          ]
        }
      ]
    },
    {
      "cell_type": "code",
      "source": [
        "from sklearn.linear_model import Lasso\n",
        "\n",
        "\n",
        "lasso_model = Lasso()\n",
        "lasso_model.fit(X_train_normalized, y_train)\n",
        "\n",
        "\n",
        "feature_weights = lasso_model.coef_\n",
        "\n",
        "\n",
        "num_non_zero_weights = sum(feature_weights != 0)\n",
        "\n",
        "\n",
        "print(\"Number of features with non-zero weights:\", num_non_zero_weights)\n"
      ],
      "metadata": {
        "colab": {
          "base_uri": "https://localhost:8080/"
        },
        "id": "YaXO06dXTQPD",
        "outputId": "18120892-b4b9-4107-de93-8c468fe90b19"
      },
      "execution_count": 8,
      "outputs": [
        {
          "output_type": "stream",
          "name": "stdout",
          "text": [
            "Number of features with non-zero weights: 4\n"
          ]
        }
      ]
    },
    {
      "cell_type": "code",
      "source": [
        "\n",
        "y_test_pred_lasso = lasso_model.predict(X_test_normalized)\n",
        "\n",
        "\n",
        "mse_test_lasso = mean_squared_error(y_test, y_test_pred_lasso)\n",
        "\n",
        "rmse_test_lasso = np.sqrt(mse_test_lasso)\n",
        "\n",
        "\n",
        "print(\"Root Mean Squared Error (Test Set - Lasso):\", round(rmse_test_lasso, 3))\n"
      ],
      "metadata": {
        "colab": {
          "base_uri": "https://localhost:8080/"
        },
        "id": "wOf51ol8TzHy",
        "outputId": "24529898-d505-4da5-ae1e-06e8659a9084"
      },
      "execution_count": 9,
      "outputs": [
        {
          "output_type": "stream",
          "name": "stdout",
          "text": [
            "Root Mean Squared Error (Test Set - Lasso): 99.424\n"
          ]
        }
      ]
    },
    {
      "cell_type": "code",
      "source": [],
      "metadata": {
        "id": "1AhlNUGKT9wR"
      },
      "execution_count": 9,
      "outputs": []
    }
  ]
}